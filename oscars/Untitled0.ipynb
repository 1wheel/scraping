{
 "metadata": {
  "name": "",
  "signature": "sha256:1aad101d4aa5ed1728791ceea8660653250a76ff35501f3ef6d9882645187c8b"
 },
 "nbformat": 3,
 "nbformat_minor": 0,
 "worksheets": [
  {
   "cells": [
    {
     "cell_type": "code",
     "collapsed": false,
     "input": [
      "import pandas as pd\n",
      "import numpy as np\n",
      "import os as os"
     ],
     "language": "python",
     "metadata": {},
     "outputs": [],
     "prompt_number": 15
    },
    {
     "cell_type": "code",
     "collapsed": false,
     "input": [
      "from datetime import datetime\n",
      "now = datetime.now()"
     ],
     "language": "python",
     "metadata": {},
     "outputs": [],
     "prompt_number": 7
    },
    {
     "cell_type": "code",
     "collapsed": false,
     "input": [
      "now"
     ],
     "language": "python",
     "metadata": {},
     "outputs": [
      {
       "metadata": {},
       "output_type": "pyout",
       "prompt_number": 8,
       "text": [
        "datetime.datetime(2015, 2, 16, 16, 57, 13, 791155)"
       ]
      }
     ],
     "prompt_number": 8
    },
    {
     "cell_type": "code",
     "collapsed": false,
     "input": [
      "df = pd.read_csv(\"data.csv\")\n",
      "df.head()"
     ],
     "language": "python",
     "metadata": {},
     "outputs": [
      {
       "html": [
        "<div style=\"max-height:1000px;max-width:1500px;overflow:auto;\">\n",
        "<table border=\"1\" class=\"dataframe\">\n",
        "  <thead>\n",
        "    <tr style=\"text-align: right;\">\n",
        "      <th></th>\n",
        "      <th>year</th>\n",
        "      <th>award</th>\n",
        "      <th>won</th>\n",
        "      <th>name</th>\n",
        "      <th>movie</th>\n",
        "    </tr>\n",
        "  </thead>\n",
        "  <tbody>\n",
        "    <tr>\n",
        "      <th>0</th>\n",
        "      <td> 1927/28 (1st)</td>\n",
        "      <td>   ACTOR</td>\n",
        "      <td> False</td>\n",
        "      <td> Richard Barthelmess</td>\n",
        "      <td>        The Noose</td>\n",
        "    </tr>\n",
        "    <tr>\n",
        "      <th>1</th>\n",
        "      <td> 1927/28 (1st)</td>\n",
        "      <td>   ACTOR</td>\n",
        "      <td>  True</td>\n",
        "      <td>       Emil Jannings</td>\n",
        "      <td> The Last Command</td>\n",
        "    </tr>\n",
        "    <tr>\n",
        "      <th>2</th>\n",
        "      <td> 1927/28 (1st)</td>\n",
        "      <td> ACTRESS</td>\n",
        "      <td> False</td>\n",
        "      <td>      Louise Dresser</td>\n",
        "      <td>  A Ship Comes In</td>\n",
        "    </tr>\n",
        "    <tr>\n",
        "      <th>3</th>\n",
        "      <td> 1927/28 (1st)</td>\n",
        "      <td> ACTRESS</td>\n",
        "      <td>  True</td>\n",
        "      <td>        Janet Gaynor</td>\n",
        "      <td>       7th Heaven</td>\n",
        "    </tr>\n",
        "    <tr>\n",
        "      <th>4</th>\n",
        "      <td> 1927/28 (1st)</td>\n",
        "      <td> ACTRESS</td>\n",
        "      <td> False</td>\n",
        "      <td>      Gloria Swanson</td>\n",
        "      <td>   Sadie Thompson</td>\n",
        "    </tr>\n",
        "  </tbody>\n",
        "</table>\n",
        "</div>"
       ],
       "metadata": {},
       "output_type": "pyout",
       "prompt_number": 30,
       "text": [
        "            year    award    won                 name             movie\n",
        "0  1927/28 (1st)    ACTOR  False  Richard Barthelmess         The Noose\n",
        "1  1927/28 (1st)    ACTOR   True        Emil Jannings  The Last Command\n",
        "2  1927/28 (1st)  ACTRESS  False       Louise Dresser   A Ship Comes In\n",
        "3  1927/28 (1st)  ACTRESS   True         Janet Gaynor        7th Heaven\n",
        "4  1927/28 (1st)  ACTRESS  False       Gloria Swanson    Sadie Thompson"
       ]
      }
     ],
     "prompt_number": 30
    },
    {
     "cell_type": "code",
     "collapsed": false,
     "input": [
      "actors = df[df.award == 'ACTOR']\n",
      "actors.head()"
     ],
     "language": "python",
     "metadata": {},
     "outputs": [
      {
       "html": [
        "<div style=\"max-height:1000px;max-width:1500px;overflow:auto;\">\n",
        "<table border=\"1\" class=\"dataframe\">\n",
        "  <thead>\n",
        "    <tr style=\"text-align: right;\">\n",
        "      <th></th>\n",
        "      <th>year</th>\n",
        "      <th>award</th>\n",
        "      <th>won</th>\n",
        "      <th>name</th>\n",
        "      <th>movie</th>\n",
        "      <th>nth</th>\n",
        "    </tr>\n",
        "  </thead>\n",
        "  <tbody>\n",
        "    <tr>\n",
        "      <th>0 </th>\n",
        "      <td> 1927/28 (1st)</td>\n",
        "      <td> ACTOR</td>\n",
        "      <td> False</td>\n",
        "      <td> Richard Barthelmess</td>\n",
        "      <td>        The Noose</td>\n",
        "      <td> 1</td>\n",
        "    </tr>\n",
        "    <tr>\n",
        "      <th>1 </th>\n",
        "      <td> 1927/28 (1st)</td>\n",
        "      <td> ACTOR</td>\n",
        "      <td>  True</td>\n",
        "      <td>       Emil Jannings</td>\n",
        "      <td> The Last Command</td>\n",
        "      <td> 1</td>\n",
        "    </tr>\n",
        "    <tr>\n",
        "      <th>35</th>\n",
        "      <td> 1928/29 (2nd)</td>\n",
        "      <td> ACTOR</td>\n",
        "      <td> False</td>\n",
        "      <td>     George Bancroft</td>\n",
        "      <td>      Thunderbolt</td>\n",
        "      <td> 2</td>\n",
        "    </tr>\n",
        "    <tr>\n",
        "      <th>36</th>\n",
        "      <td> 1928/29 (2nd)</td>\n",
        "      <td> ACTOR</td>\n",
        "      <td>  True</td>\n",
        "      <td>       Warner Baxter</td>\n",
        "      <td>   In Old Arizona</td>\n",
        "      <td> 2</td>\n",
        "    </tr>\n",
        "    <tr>\n",
        "      <th>37</th>\n",
        "      <td> 1928/29 (2nd)</td>\n",
        "      <td> ACTOR</td>\n",
        "      <td> False</td>\n",
        "      <td>      Chester Morris</td>\n",
        "      <td>            Alibi</td>\n",
        "      <td> 2</td>\n",
        "    </tr>\n",
        "  </tbody>\n",
        "</table>\n",
        "</div>"
       ],
       "metadata": {},
       "output_type": "pyout",
       "prompt_number": 36,
       "text": [
        "             year  award    won                 name             movie  nth\n",
        "0   1927/28 (1st)  ACTOR  False  Richard Barthelmess         The Noose    1\n",
        "1   1927/28 (1st)  ACTOR   True        Emil Jannings  The Last Command    1\n",
        "35  1928/29 (2nd)  ACTOR  False      George Bancroft       Thunderbolt    2\n",
        "36  1928/29 (2nd)  ACTOR   True        Warner Baxter    In Old Arizona    2\n",
        "37  1928/29 (2nd)  ACTOR  False       Chester Morris             Alibi    2"
       ]
      }
     ],
     "prompt_number": 36
    },
    {
     "cell_type": "code",
     "collapsed": false,
     "input": [
      "df['nth'] = df['year'].map(lambda x: int(x.split(\"(\")[1].split(\")\")[0][:-2]))\n",
      "df.head()"
     ],
     "language": "python",
     "metadata": {},
     "outputs": [
      {
       "html": [
        "<div style=\"max-height:1000px;max-width:1500px;overflow:auto;\">\n",
        "<table border=\"1\" class=\"dataframe\">\n",
        "  <thead>\n",
        "    <tr style=\"text-align: right;\">\n",
        "      <th></th>\n",
        "      <th>year</th>\n",
        "      <th>award</th>\n",
        "      <th>won</th>\n",
        "      <th>name</th>\n",
        "      <th>movie</th>\n",
        "      <th>nth</th>\n",
        "    </tr>\n",
        "  </thead>\n",
        "  <tbody>\n",
        "    <tr>\n",
        "      <th>0</th>\n",
        "      <td> 1927/28 (1st)</td>\n",
        "      <td>   ACTOR</td>\n",
        "      <td> False</td>\n",
        "      <td> Richard Barthelmess</td>\n",
        "      <td>        The Noose</td>\n",
        "      <td> 1</td>\n",
        "    </tr>\n",
        "    <tr>\n",
        "      <th>1</th>\n",
        "      <td> 1927/28 (1st)</td>\n",
        "      <td>   ACTOR</td>\n",
        "      <td>  True</td>\n",
        "      <td>       Emil Jannings</td>\n",
        "      <td> The Last Command</td>\n",
        "      <td> 1</td>\n",
        "    </tr>\n",
        "    <tr>\n",
        "      <th>2</th>\n",
        "      <td> 1927/28 (1st)</td>\n",
        "      <td> ACTRESS</td>\n",
        "      <td> False</td>\n",
        "      <td>      Louise Dresser</td>\n",
        "      <td>  A Ship Comes In</td>\n",
        "      <td> 1</td>\n",
        "    </tr>\n",
        "    <tr>\n",
        "      <th>3</th>\n",
        "      <td> 1927/28 (1st)</td>\n",
        "      <td> ACTRESS</td>\n",
        "      <td>  True</td>\n",
        "      <td>        Janet Gaynor</td>\n",
        "      <td>       7th Heaven</td>\n",
        "      <td> 1</td>\n",
        "    </tr>\n",
        "    <tr>\n",
        "      <th>4</th>\n",
        "      <td> 1927/28 (1st)</td>\n",
        "      <td> ACTRESS</td>\n",
        "      <td> False</td>\n",
        "      <td>      Gloria Swanson</td>\n",
        "      <td>   Sadie Thompson</td>\n",
        "      <td> 1</td>\n",
        "    </tr>\n",
        "  </tbody>\n",
        "</table>\n",
        "</div>"
       ],
       "metadata": {},
       "output_type": "pyout",
       "prompt_number": 34,
       "text": [
        "            year    award    won                 name             movie  nth\n",
        "0  1927/28 (1st)    ACTOR  False  Richard Barthelmess         The Noose    1\n",
        "1  1927/28 (1st)    ACTOR   True        Emil Jannings  The Last Command    1\n",
        "2  1927/28 (1st)  ACTRESS  False       Louise Dresser   A Ship Comes In    1\n",
        "3  1927/28 (1st)  ACTRESS   True         Janet Gaynor        7th Heaven    1\n",
        "4  1927/28 (1st)  ACTRESS  False       Gloria Swanson    Sadie Thompson    1"
       ]
      }
     ],
     "prompt_number": 34
    },
    {
     "cell_type": "code",
     "collapsed": false,
     "input": [
      "actors.groupby('name')"
     ],
     "language": "python",
     "metadata": {},
     "outputs": [
      {
       "metadata": {},
       "output_type": "pyout",
       "prompt_number": 44,
       "text": [
        "<pandas.core.groupby.DataFrameGroupBy object at 0x7f0994a1e410>"
       ]
      }
     ],
     "prompt_number": 44
    },
    {
     "cell_type": "code",
     "collapsed": false,
     "input": [
      "actors.to_records(index=False)[0]"
     ],
     "language": "python",
     "metadata": {},
     "outputs": [
      {
       "metadata": {},
       "output_type": "pyout",
       "prompt_number": 49,
       "text": [
        "('1927/28 (1st)', 'ACTOR', False, 'Richard Barthelmess', 'The Noose', 1)"
       ]
      }
     ],
     "prompt_number": 49
    }
   ],
   "metadata": {}
  }
 ]
}